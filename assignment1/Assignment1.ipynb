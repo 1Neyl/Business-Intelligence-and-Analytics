{
  "cells": [
    {
      "cell_type": "markdown",
      "source": [
        "<a href=\"https://colab.research.google.com/github/michalis0/Business-Intelligence-and-Analytics/blob/master/assignment1/Assignment1.ipynb\" target=\"_parent\"><img src=\"https://colab.research.google.com/assets/colab-badge.svg\" alt=\"Open In Colab\"/></a>"
      ],
      "metadata": {
        "id": "view-in-github",
        "colab_type": "text"
      }
    },
    {
      "cell_type": "markdown",
      "source": [
        "# Assignment 1\n",
        "\n",
        "For the first assignment, you will apply what you have learnt in the first labs. You have the opportunity to review and practice data cleaning and also SQL. The first dataset consists of data for loan applications at a bank. One row represents one past loan application, the features of the applicant and whether it was accepted or not. \n",
        "\n",
        "You will apply exploratory data analysis on it. You can use what you learnt previously from the first exercises. The methology behind this assignment is quite similar, but since the dataset is different you should sometimes adapt your code.\n"
      ],
      "metadata": {
        "colab_type": "text",
        "id": "kiL5sJ8d49li"
      }
    },
    {
      "cell_type": "markdown",
      "source": [
        "### Important Notice : \n",
        "You are supposed to fill this notebook following the instructions (i.e. writing code in the cells with *#YOUR CODE HERE*). Your code should be able to provide the solution so that you can answer various questions posed in this notebook and in a Moodle Quiz. You'll be evaluated on both readability of the notebook and correctness of the answers given on Moodle.\n",
        "\n",
        "So for this assignment you have to complete this notebook and then (you have to do BOTH!):\n",
        "\n",
        "1. Submit your Python notebook here: https://moodle.unil.ch/mod/assign/view.php?id=787962\n",
        "2. Answer the questions in this Moodle Quiz:\n",
        "https://moodle.unil.ch/mod/quiz/view.php?id=786880 (you can only submit ONCE!)"
      ],
      "metadata": {
        "id": "8pISpDvs90Nq",
        "colab_type": "text"
      }
    },
    {
      "cell_type": "code",
      "source": [
        "#import libraries\n",
        "import pandas as pd\n",
        "import matplotlib.pyplot as plt\n",
        "import seaborn as sns\n",
        "import numpy as np\n",
        "\n",
        "import warnings\n",
        "warnings.filterwarnings('ignore')\n",
        "\n",
        "sns.set(style=\"darkgrid\")\n",
        "pd.set_option('display.max_rows', 500)\n",
        "pd.set_option('display.max_columns', 500)\n",
        "pd.set_option('display.width', 1000)"
      ],
      "outputs": [],
      "execution_count": 0,
      "metadata": {
        "colab_type": "code",
        "id": "diUX6XBRBLYY",
        "colab": {}
      }
    },
    {
      "cell_type": "markdown",
      "source": [
        "<br>\n",
        "First, load the file from our github link in a Dataframe."
      ],
      "metadata": {
        "colab_type": "text",
        "id": "csfVozoh5Znm"
      }
    },
    {
      "cell_type": "code",
      "source": [
        "url = 'https://raw.githubusercontent.com/michalis0/Business-Intelligence-and-Analytics/master/data/new_application_train_1.csv'\n",
        "#YOUR CODE HERE\n",
        "#load the file in a dataframe\n",
        "#use the head() command to get a feeling of the data and the columns\n",
        "#use the proper pandas command to find its dimensions"
      ],
      "outputs": [],
      "execution_count": 0,
      "metadata": {
        "colab_type": "code",
        "id": "jRS1pzCW5bAN",
        "colab": {}
      }
    },
    {
      "cell_type": "markdown",
      "source": [
        "***Question 1 :***\n",
        "<br>\n",
        "How many rows and columns does the dataset have? (without including the header). "
      ],
      "metadata": {
        "id": "OI7B56Cp90N7",
        "colab_type": "text"
      }
    },
    {
      "cell_type": "markdown",
      "source": [
        "<br>\n",
        "\n",
        "The `'TARGET'` column indicates the people who have been given a loan (value of 0) and the ones who have not (value of 1). Using a barplot, show how many loans were given (TARGET=0) and how many were declined (TARGET=1).\n",
        "\n",
        "**Hint:** Use *plot()* method on the result of *value_count()*"
      ],
      "metadata": {
        "colab_type": "text",
        "id": "Su1oWFk05bmK"
      }
    },
    {
      "cell_type": "code",
      "source": [
        "#YOUR CODE HERE\n"
      ],
      "outputs": [],
      "execution_count": 0,
      "metadata": {
        "id": "yNQ0QPh690N9",
        "colab_type": "code",
        "colab": {}
      }
    },
    {
      "cell_type": "markdown",
      "source": [
        "***Question 2 :*** <br>\n",
        "How many loans were accepted (TARGET = 0) vs declined (TARGET = 1)?"
      ],
      "metadata": {
        "id": "mc0Z3TGT_A2x",
        "colab_type": "text"
      }
    },
    {
      "cell_type": "markdown",
      "source": [
        "<br>\n",
        "\n",
        "Use the *describe* method to get some summary statistics about `'DAYS_BIRTH'` and `'DAYS_EMPLOYED'` columns. Do you recognize some weird values ? In the `'DAYS_EMPLOYED'` column, if you plot the histogram, you should see that there are some very large values, distant from the rest of the values. Remove those very large values (eg all the values more than X, you have to decide on the X based on the histogram that you see). These values don't make sense for this column. Plot the histogram of `'DAYS_EMPLOYED'` before and after the removal of those large values and the transformation that we recommend below.\n",
        "<br>\n",
        "\n",
        "\n",
        "**Hint:** The values in those two columns are negative because they correspond to a difference in number of days since the beginning of employment or birth. The following transformation can be useful: \n",
        "- Taking the absolute value (*abs()*) since we want positive numbers\n"
      ],
      "metadata": {
        "colab_type": "text",
        "id": "i2GxdNKx90F8"
      }
    },
    {
      "cell_type": "code",
      "source": [
        "#YOUR CODE HERE\n",
        "# do abs transformations\n",
        "# use describe"
      ],
      "outputs": [],
      "execution_count": 0,
      "metadata": {
        "colab_type": "code",
        "id": "Bnmyu7aT92Eb",
        "scrolled": true,
        "colab": {}
      }
    },
    {
      "cell_type": "markdown",
      "source": [
        "**Answer Note:** Those ages look reasonable. There are no outliers for the age on either the high or low end. Employed days doesn't look right! The maximum value is about 1000 years!"
      ],
      "metadata": {
        "nteract": {
          "transient": {
            "deleting": false
          }
        }
      }
    },
    {
      "cell_type": "code",
      "source": [
        "#YOUR CODE HERE\n",
        "# do histogram of DAYS_EMPLOYED"
      ],
      "outputs": [],
      "execution_count": null,
      "metadata": {
        "collapsed": false,
        "jupyter": {
          "source_hidden": false,
          "outputs_hidden": false
        },
        "nteract": {
          "transient": {
            "deleting": false
          }
        }
      }
    },
    {
      "cell_type": "code",
      "source": [
        "# YOUR CODE HERE\n",
        "# remove the outliers from DAYS_EMPLOYED column\n",
        "# show the histogram now\n",
        "\n",
        "# use the describe on the new values"
      ],
      "outputs": [],
      "execution_count": null,
      "metadata": {
        "collapsed": false,
        "jupyter": {
          "source_hidden": false,
          "outputs_hidden": false
        },
        "nteract": {
          "transient": {
            "deleting": false
          }
        }
      }
    },
    {
      "cell_type": "markdown",
      "source": [
        "***Question 3:*** <br>\n",
        "After the removal of the outliers, what is the new mean value of `'DAYS_EMPLOYED'` column? (rounded to the nearest integer)"
      ],
      "metadata": {
        "id": "cqKvrLqC90OV",
        "colab_type": "text"
      }
    },
    {
      "cell_type": "markdown",
      "source": [
        "For each column, compute the number of missing entries and the percentage of the total rows in the column that it represents.\n",
        "\n",
        "**Hint:** Consider summing the null values using the *isnull()* and *sum()* methods "
      ],
      "metadata": {
        "id": "KTkM1a0K90OX",
        "colab_type": "text"
      }
    },
    {
      "cell_type": "code",
      "source": [
        "#YOUR CODE HERE\n",
        "# compute missing values for all columns\n",
        "\n",
        "# compute percentage of missing values for all columns\n"
      ],
      "outputs": [],
      "execution_count": 0,
      "metadata": {
        "id": "AJiYfWJr90OZ",
        "colab_type": "code",
        "colab": {}
      }
    },
    {
      "cell_type": "markdown",
      "source": [
        "***Question 4:*** <br>\n",
        "What is the number of missing values for the column `'OWN_CAR_AGE'`? "
      ],
      "metadata": {
        "id": "sVypY-G890Od",
        "colab_type": "text"
      }
    },
    {
      "cell_type": "markdown",
      "source": [
        "***Question 5:*** <br>\n",
        "What is the percentage of missing values for the column `'COMMONAREA_MODE'`? (rounded to the nearest integer)"
      ],
      "metadata": {
        "id": "2PoxiYdw90Og",
        "colab_type": "text"
      }
    },
    {
      "cell_type": "markdown",
      "source": [
        "Write some code to get the datatype (int64, float64...) of each column. For this just show the datatype of the columns as recognized by the default loading of the csv file (use command dtypes). Also count how many of each datatype you have."
      ],
      "metadata": {
        "id": "bVBkCDrw90Oj",
        "colab_type": "text"
      }
    },
    {
      "cell_type": "code",
      "source": [
        "#YOUR CODE HERE\n"
      ],
      "outputs": [],
      "execution_count": 0,
      "metadata": {
        "scrolled": true,
        "id": "PsQ9FZi_90Ol",
        "colab_type": "code",
        "colab": {}
      }
    },
    {
      "cell_type": "markdown",
      "source": [
        "***Question 6:*** <br>\n",
        "How many variables are numeric continuous (ie, “float64”) ? "
      ],
      "metadata": {
        "colab_type": "text",
        "id": "PBo009Fz9oMT"
      }
    },
    {
      "cell_type": "markdown",
      "source": [
        "***Question 7:*** <br>\n",
        "How many variables are numeric discrete (ie, “int64”) ? "
      ],
      "metadata": {
        "id": "6JQeonG990Ot",
        "colab_type": "text"
      }
    },
    {
      "cell_type": "markdown",
      "source": [
        "***Question 8:*** <br>\n",
        "How many variables are categorical (ie, “object”) ? "
      ],
      "metadata": {
        "id": "DTlnIlRi90Ov",
        "colab_type": "text"
      }
    },
    {
      "cell_type": "markdown",
      "source": [
        "Convert the column `'FLAG_CONT_MOBILE'` of our dataframe to a categorical variable."
      ],
      "metadata": {
        "id": "CLEc6hqm90Ow",
        "colab_type": "text"
      }
    },
    {
      "cell_type": "code",
      "source": [
        "#YOUR CODE HERE\n"
      ],
      "outputs": [],
      "execution_count": 0,
      "metadata": {
        "id": "tCojgoNM90Ox",
        "colab_type": "code",
        "colab": {}
      }
    },
    {
      "cell_type": "markdown",
      "source": [
        "<br>\n",
        "\n",
        "Remove the NULL values (use the dropna function) and plot the distribution of the `AMT_CREDIT` and the `AMT_GOODS_PRICE`."
      ],
      "metadata": {
        "colab_type": "text",
        "id": "80H0kveN92_q"
      }
    },
    {
      "cell_type": "code",
      "source": [
        "# drop null values\n",
        "#YOUR CODE HERE\n",
        "\n",
        "# plot histogram 1\n",
        "#YOUR CODE HERE\n",
        "\n",
        "# plot histogram 2\n",
        "#YOUR CODE HERE"
      ],
      "outputs": [],
      "execution_count": 0,
      "metadata": {
        "colab_type": "code",
        "id": "ak9etQR4oh4F",
        "scrolled": false,
        "colab": {}
      }
    },
    {
      "cell_type": "markdown",
      "source": [
        "***Question 9:***<br>\n",
        "What distribution does the `AMT_CREDIT` and the `AMT_GOODS_PRICE` histogram resemble?\n",
        "\n",
        "- Gaussian\n",
        "- Uniform\n",
        "- None of the above\n"
      ],
      "metadata": {
        "id": "TnaB3bhL90O-",
        "colab_type": "text"
      }
    },
    {
      "cell_type": "markdown",
      "source": [
        "\n",
        "Create a pie chart that shows proportion of different values in the column ``'NAME_INCOME_TYPE'`` (income sources of applicant's who applied for loan). You have to count the number of loans for each type and show are a pie chart.\n",
        "\n",
        "**Hint:** Having a new Dataframe with the *index* and *values* of the result of *value_counts()* will make this plot easy"
      ],
      "metadata": {
        "id": "pIduqgF-90O_",
        "colab_type": "text"
      }
    },
    {
      "cell_type": "code",
      "source": [
        "#YOUR CODE HERE\n"
      ],
      "outputs": [],
      "execution_count": 0,
      "metadata": {
        "colab_type": "code",
        "id": "FlsJ2dLEoh4L",
        "scrolled": false,
        "colab": {}
      }
    },
    {
      "cell_type": "markdown",
      "source": [
        "***Question 10*** : <br>\n",
        "What is the percentage of rows that had the value 'Commercial associate' in that column (rounded to the nearest integer, just the number of the percentage without the %, only an integer in the quiz)"
      ],
      "metadata": {
        "id": "eaGeCPAy90PG",
        "colab_type": "text"
      }
    },
    {
      "cell_type": "markdown",
      "source": [
        "Select the rows where `'NAME_CONTRACT_TYPE'` is *Cash loans* and `'AMT_INCOME_TOTAL'` is bigger than 225000"
      ],
      "metadata": {
        "id": "Oa_HM0A690PI",
        "colab_type": "text"
      }
    },
    {
      "cell_type": "code",
      "source": [
        "#YOUR CODE HERE\n"
      ],
      "outputs": [],
      "execution_count": 0,
      "metadata": {
        "id": "bLST7tzm90PJ",
        "colab_type": "code",
        "colab": {}
      }
    },
    {
      "cell_type": "markdown",
      "source": [
        "***Question 11:*** <br>\n",
        "How many rows satisfy a *Cash loans* contract and a *AMT total income* bigger than 225000?"
      ],
      "metadata": {
        "id": "-cZt7An490PN",
        "colab_type": "text"
      }
    },
    {
      "cell_type": "markdown",
      "source": [
        "Create a boxplot for the column `'FLOORSMAX_AVG'`"
      ],
      "metadata": {
        "id": "_6MMtwfh90PO",
        "colab_type": "text"
      }
    },
    {
      "cell_type": "code",
      "source": [
        "#YOUR CODE HERE\n"
      ],
      "outputs": [],
      "execution_count": 0,
      "metadata": {
        "id": "JUeY342P90PR",
        "colab_type": "code",
        "colab": {}
      }
    },
    {
      "cell_type": "markdown",
      "source": [
        "***Question 12:*** <br>\n",
        "From the box plot on `'FLOORSMAX_AVG'`, are there more outliers with small or with large values?"
      ],
      "metadata": {
        "id": "Lus_s2yO90Pg",
        "colab_type": "text"
      }
    },
    {
      "cell_type": "markdown",
      "source": [
        "Compute the pearson correlation of all the features with respect to the ``'TARGET'`` variable. Notice that some of the correlations are NaN. Use the 'dropna()' function to remove those values. Plot the 20 most positively correlated variables/columns to 'TARGET'. Plot the 20 most negatively correlated variables/columns to 'TARGET'. \n",
        "\n",
        "**Hint:** *corr()* method can be applied to Dataframes"
      ],
      "metadata": {
        "colab_type": "text",
        "id": "PAHL1Hp5eUaA"
      }
    },
    {
      "cell_type": "code",
      "source": [
        "#YOUR CODE HERE\n"
      ],
      "outputs": [],
      "execution_count": 0,
      "metadata": {
        "colab_type": "code",
        "id": "iXhzuzWmehAl",
        "colab": {}
      }
    },
    {
      "cell_type": "markdown",
      "source": [
        "***Question 13:*** <br>\n",
        "What is the column with the highest positive correlation to the column ``'TARGET'`` (other than 'TARGET'!)?"
      ],
      "metadata": {
        "id": "UcduDMIX90P2",
        "colab_type": "text"
      }
    },
    {
      "cell_type": "markdown",
      "source": [
        "***Question 14:*** <br>\n",
        "What is the column with the second highest positive correlation to the column ``'TARGET'``?"
      ],
      "metadata": {
        "id": "x5L5Oqgz90P3",
        "colab_type": "text"
      }
    },
    {
      "cell_type": "markdown",
      "source": [
        "***Question 15:*** <br>\n",
        "What is the column **least** correlated to the column ``'TARGET'``?\n",
        "\n",
        "**Remember:** We are looking for correlation close to zero."
      ],
      "metadata": {
        "id": "3sctzLZ190P4",
        "colab_type": "text"
      }
    },
    {
      "cell_type": "markdown",
      "source": [
        "Create a pairplot of columns `'LIVINGAPARTMENTS_AVG'`, `'APARTMENTS_MEDI'`, `'HOUR_APPR_PROCESS_START'` and `'REGION_RATING_CLIENT_W_CITY'`. Use the `'TARGET'` column as the *hue* argument"
      ],
      "metadata": {
        "id": "0Pdg7uf190P5",
        "colab_type": "text"
      }
    },
    {
      "cell_type": "code",
      "source": [
        "#YOUR CODE HERE\n"
      ],
      "outputs": [],
      "execution_count": 0,
      "metadata": {
        "id": "dq306LzY90P-",
        "colab_type": "code",
        "colab": {}
      }
    },
    {
      "cell_type": "markdown",
      "source": [
        "Now, create a heatmap of correlations of columns `'DAYS_BIRTH'`, `'YEARS_BUILD_AVG'`, `'AMT_ANNUITY'` and `'TARGET'` \n",
        " "
      ],
      "metadata": {
        "colab_type": "text",
        "id": "2aZvVYG8_r2U"
      }
    },
    {
      "cell_type": "code",
      "source": [
        "#YOUR CODE HERE\n"
      ],
      "outputs": [],
      "execution_count": 0,
      "metadata": {
        "colab_type": "code",
        "id": "4r636JD_CWyq",
        "colab": {}
      }
    },
    {
      "cell_type": "markdown",
      "source": [
        "***Question 16:***<br>\n",
        "Among the above variables ('DAYS_BIRTH', 'YEARS_BUILD_AVG', 'AMT_ANNUITY' and 'TARGET'), what are the 2 variables that are the most correlated?"
      ],
      "metadata": {
        "nteract": {
          "transient": {
            "deleting": false
          }
        }
      }
    },
    {
      "cell_type": "markdown",
      "source": [
        "## SQL\n",
        "\n",
        "Now you will test your knowledge of SQL with some statement. For this we will load the Titanic dataset which you also used in the lab. You have to answer the following questions."
      ],
      "metadata": {
        "id": "f-25wjV2v2hk",
        "colab_type": "text"
      }
    },
    {
      "cell_type": "code",
      "source": [
        "# Load table from CSV file\n",
        "import pandas as pd\n",
        "from sqlalchemy import create_engine\n",
        "\n",
        "# create the database\n",
        "db = create_engine('sqlite://', echo=False)\n",
        "\n",
        "# Titanic table\n",
        "csvfile = 'https://raw.githubusercontent.com/michalis0/Business-Intelligence-and-Analytics/master/week6%20-%20SQL2/data/Titanic.csv'\n",
        "df = pd.read_csv(csvfile)\n",
        "table_name = \"Titanic\"\n",
        "df.to_sql(table_name, con=db) # populate it with the data"
      ],
      "outputs": [],
      "execution_count": 0,
      "metadata": {
        "id": "wfWeWh3Av3pN",
        "colab_type": "code",
        "colab": {}
      }
    },
    {
      "cell_type": "markdown",
      "source": [
        "***Question 17:***<br>\n",
        "Are there any pairs of passengers with the same last name where one is in first class and the other is in third class? If so, return the last name and the two first names. Label the first-name columns 'first' for the passenger in first class and 'third' for the passenger in third class."
      ],
      "metadata": {
        "id": "OMwjRJKgBT2n",
        "colab_type": "text"
      }
    },
    {
      "cell_type": "code",
      "source": [
        "query = \"\"\"\n",
        "\n",
        "---YOUR QUERY HERE ----\n",
        "\n",
        "\"\"\"\n",
        "sql_df = pd.read_sql(query, con=db)\n",
        "sql_df"
      ],
      "outputs": [],
      "execution_count": 0,
      "metadata": {
        "id": "B6g2-9KRBWI_",
        "colab_type": "code",
        "colab": {}
      }
    },
    {
      "cell_type": "markdown",
      "source": [
        "***Question 18:***<br>\n",
        "Which embarkation cities have more than 40 passengers whose age is missing? Reminder: Blanks in SQL tables are given a special value called 'null', and conditions 'A is null' and 'A is not null' can be used in Where clauses to check whether attribute A has the 'null' value."
      ],
      "metadata": {
        "id": "59EcHy0SBa_-",
        "colab_type": "text"
      }
    },
    {
      "cell_type": "code",
      "source": [
        "query = \"\"\"\n",
        "\n",
        "---YOUR QUERY HERE ----\n",
        "\n",
        "\"\"\"\n",
        "sql_df = pd.read_sql(query, con=db)\n",
        "sql_df"
      ],
      "outputs": [],
      "execution_count": 0,
      "metadata": {
        "id": "O3brmkpyBbfc",
        "colab_type": "code",
        "colab": {}
      }
    },
    {
      "cell_type": "markdown",
      "source": [
        "***Question 19:***<br>\n",
        "Find all classes where the average fare paid by passengers in that class was more than twice the overall average or less than half the overall average."
      ],
      "metadata": {
        "id": "h9OKvQrdBeEV",
        "colab_type": "text"
      }
    },
    {
      "cell_type": "code",
      "source": [
        "query = \"\"\"\n",
        "\n",
        "---YOUR QUERY HERE ----\n",
        "\n",
        "\"\"\"\n",
        "sql_df = pd.read_sql(query, con=db)\n",
        "sql_df"
      ],
      "outputs": [],
      "execution_count": 0,
      "metadata": {
        "id": "Z2mNh0YeBgk6",
        "colab_type": "code",
        "colab": {}
      }
    },
    {
      "cell_type": "markdown",
      "source": [
        "***Question 20:***<br>\n",
        "List each class and its survival rate, i.e., the fraction of passengers in that class who survived."
      ],
      "metadata": {
        "id": "pg0NOeS7BiLr",
        "colab_type": "text"
      }
    },
    {
      "cell_type": "code",
      "source": [
        "query = \"\"\"\n",
        "\n",
        "---YOUR QUERY HERE ----\n",
        "\n",
        "\"\"\"\n",
        "sql_df = pd.read_sql(query, con=db)\n",
        "sql_df"
      ],
      "outputs": [],
      "execution_count": 0,
      "metadata": {
        "id": "Vw-0-b2CCSTg",
        "colab_type": "code",
        "colab": {}
      }
    }
  ],
  "metadata": {
    "colab": {
      "name": "Assignment1_bia_Arnaudfinal.ipynb",
      "provenance": [],
      "collapsed_sections": [],
      "include_colab_link": true
    },
    "kernelspec": {
      "display_name": "Python 3",
      "language": "python",
      "name": "python3"
    },
    "language_info": {
      "codemirror_mode": {
        "name": "ipython",
        "version": 3
      },
      "file_extension": ".py",
      "mimetype": "text/x-python",
      "name": "python",
      "nbconvert_exporter": "python",
      "pygments_lexer": "ipython3",
      "version": "3.6.9"
    },
    "nteract": {
      "version": "0.22.0"
    }
  },
  "nbformat": 4,
  "nbformat_minor": 0
}