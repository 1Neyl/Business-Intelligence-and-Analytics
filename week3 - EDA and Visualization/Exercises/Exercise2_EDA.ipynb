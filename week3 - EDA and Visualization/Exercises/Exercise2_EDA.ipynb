{
  "nbformat": 4,
  "nbformat_minor": 0,
  "metadata": {
    "kernelspec": {
      "display_name": "Python 3",
      "language": "python",
      "name": "python3"
    },
    "language_info": {
      "codemirror_mode": {
        "name": "ipython",
        "version": 3
      },
      "file_extension": ".py",
      "mimetype": "text/x-python",
      "name": "python",
      "nbconvert_exporter": "python",
      "pygments_lexer": "ipython3",
      "version": "3.7.6"
    },
    "colab": {
      "name": "Exercise2_EDA.ipynb",
      "provenance": [],
      "collapsed_sections": [],
      "include_colab_link": true
    }
  },
  "cells": [
    {
      "cell_type": "markdown",
      "metadata": {
        "id": "view-in-github",
        "colab_type": "text"
      },
      "source": [
        "<a href=\"https://colab.research.google.com/github/michalis0/Business-Intelligence-and-Analytics/blob/master/week3%20-%20EDA%20and%20Visualization/Exercises/Exercise2_EDA.ipynb\" target=\"_parent\"><img src=\"https://colab.research.google.com/assets/colab-badge.svg\" alt=\"Open In Colab\"/></a>"
      ]
    },
    {
      "cell_type": "markdown",
      "metadata": {
        "id": "8gSu4VMRHvPP",
        "colab_type": "text"
      },
      "source": [
        "# Exercise\n",
        "\n",
        "You have recently started your job in a famous telecom company. As you may very well know, telecoms fiercely fight for customer retention, with entire service branches devoted to this task. This is due to the fact that retention is more cost efficient than capturing new clients. One of your colleagues from the master got hired in the Marketing Department, and he needs to understand the company’s clients, so he’s asked you to help him out with a descriptive report and segmentation of the customer base. **He’s specially interested in the lifetime value of loyal customers.** \n",
        "\n",
        "Prepare a descriptive report and segment the customers in the most adequate way. Use the data on `customers.csv`. Clean, organise and present an **exploratory analysis** of the data. What can you tell about the customers ?"
      ]
    },
    {
      "cell_type": "code",
      "metadata": {
        "id": "zdneYaqeHvPT",
        "colab_type": "code",
        "colab": {}
      },
      "source": [
        "import pandas as pd\n",
        "import numpy as np\n",
        "import matplotlib.pyplot as plt\n",
        "import seaborn as sns\n",
        "\n",
        "\n",
        "\n",
        "sns.set(style=\"darkgrid\") #dark\n",
        "pd.set_option('display.max_rows', 500)\n",
        "pd.set_option('display.max_columns', 500)\n",
        "pd.set_option('display.width', 1000)"
      ],
      "execution_count": 0,
      "outputs": []
    },
    {
      "cell_type": "markdown",
      "metadata": {
        "id": "VEJXzfSwHvPf",
        "colab_type": "text"
      },
      "source": [
        "    1. Preprocessing and Cleaning\n",
        "    \n",
        "As a first part we will go through the data, this way we will clean the csv:\n",
        "- setup corrected types\n",
        "- set index\n",
        "- clean null values\n",
        "- keep relevant data columns and raws\n",
        "\n",
        "**TO DO:**\n",
        "Load the \"customers.csv\" file in a pandas dataframe and display the head."
      ]
    },
    {
      "cell_type": "code",
      "metadata": {
        "id": "cV2WSETlHvPh",
        "colab_type": "code",
        "colab": {}
      },
      "source": [
        "#If you use google collab:\n",
        "url =\"https://raw.githubusercontent.com/michalis0/Business-Intelligence-and-Analytics/master/data/customers.csv\"\n",
        "\n",
        "#filename = \"../../data/customers.csv\"\n",
        "#customers = pd.read_csv(filename)\n",
        "\n"
      ],
      "execution_count": 0,
      "outputs": []
    },
    {
      "cell_type": "markdown",
      "metadata": {
        "id": "SI3Vxx9IZl3e",
        "colab_type": "text"
      },
      "source": [
        "**TO DO:** Display the index, columns, dtypes and shape."
      ]
    },
    {
      "cell_type": "code",
      "metadata": {
        "scrolled": true,
        "id": "4Yp-tUfAHvPp",
        "colab_type": "code",
        "colab": {}
      },
      "source": [
        ""
      ],
      "execution_count": 0,
      "outputs": []
    },
    {
      "cell_type": "markdown",
      "metadata": {
        "id": "9Fmgc9HCHvP0",
        "colab_type": "text"
      },
      "source": [
        "* Modify data types, transform boolean values to correct one. Specially transform True/False values to catagories 0 and 1. The first step is to get the different values uniques present in each column. Then discretize to numerical values.\n",
        "\n",
        "FIrstly let's take a look to the tenure column. Since the tenure correspond to the Number of months the customer has stayed with the company, it is important to check null or 0 values.\n",
        "\n",
        "**TO DO:** Check  and count the number of raws when `tenure == 0`"
      ]
    },
    {
      "cell_type": "code",
      "metadata": {
        "scrolled": true,
        "id": "wwWpcGqfHvP3",
        "colab_type": "code",
        "colab": {}
      },
      "source": [
        ""
      ],
      "execution_count": 0,
      "outputs": []
    },
    {
      "cell_type": "markdown",
      "metadata": {
        "id": "E4FALZQYHvP8",
        "colab_type": "text"
      },
      "source": [
        "**Note:** These 11 raws with be deleted later, this clearly correspond to outliers which maybe start a contract and cancelled befopre its application, or the data is simply missing. Note also that these raws with be dropped by the next steps (check empty string, nan values etc...)\n",
        "\n",
        "**TO DO:** Write a code to identify uniques values for each column. Recognize the different columns we need to catagorize, and do it. Replace all Object dtype to a correct one."
      ]
    },
    {
      "cell_type": "code",
      "metadata": {
        "id": "3R-aZSXGHvP_",
        "colab_type": "code",
        "colab": {}
      },
      "source": [
        ""
      ],
      "execution_count": 0,
      "outputs": []
    },
    {
      "cell_type": "code",
      "metadata": {
        "scrolled": true,
        "id": "s1x1-eVZHvQC",
        "colab_type": "code",
        "colab": {}
      },
      "source": [
        "\n"
      ],
      "execution_count": 0,
      "outputs": []
    },
    {
      "cell_type": "markdown",
      "metadata": {
        "id": "3aEtHhqtHvQI",
        "colab_type": "text"
      },
      "source": [
        "**Note:** I notice that there is several columns that contains only two categories. Some of them contains also the \"No internet service\" and \"No phone service\" fields which can be convert to the \"No\" categorie. This will automatically convert the columns to the good pandas type. I decide to keep out this process the column *InternetService*. There is also some special columns with several but \"countable\" classes: *InternetService*, *Contract* and *PayemmentMethod*\n",
        "\n",
        "**TO DO:** Replace the fields with corresponding values, this is an example:\n",
        "`customers.gender.replace(to_replace=['Female', 'Male'], value=[0, 1], inplace=True)`. Make sure the fields have numerical types.\n"
      ]
    },
    {
      "cell_type": "code",
      "metadata": {
        "id": "fX76fX8QHvQK",
        "colab_type": "code",
        "colab": {}
      },
      "source": [
        "\n"
      ],
      "execution_count": 0,
      "outputs": []
    },
    {
      "cell_type": "code",
      "metadata": {
        "id": "f7Z4VaXBHvQQ",
        "colab_type": "code",
        "colab": {}
      },
      "source": [
        ""
      ],
      "execution_count": 0,
      "outputs": []
    },
    {
      "cell_type": "code",
      "metadata": {
        "id": "ZT31wktDHvQT",
        "colab_type": "code",
        "colab": {}
      },
      "source": [
        ""
      ],
      "execution_count": 0,
      "outputs": []
    },
    {
      "cell_type": "code",
      "metadata": {
        "scrolled": true,
        "id": "WzQ-YuHsHvQY",
        "colab_type": "code",
        "colab": {}
      },
      "source": [
        ""
      ],
      "execution_count": 0,
      "outputs": []
    },
    {
      "cell_type": "markdown",
      "metadata": {
        "id": "NqA48ZzlHvQe",
        "colab_type": "text"
      },
      "source": [
        "* Set index to the id:"
      ]
    },
    {
      "cell_type": "code",
      "metadata": {
        "id": "rbeufX02HvQg",
        "colab_type": "code",
        "colab": {}
      },
      "source": [
        ""
      ],
      "execution_count": 0,
      "outputs": []
    },
    {
      "cell_type": "markdown",
      "metadata": {
        "id": "ZnxI7Yp1HvQl",
        "colab_type": "text"
      },
      "source": [
        "* Check other Nan values represention (space, tab, foo...), and convert them to Nan values:"
      ]
    },
    {
      "cell_type": "code",
      "metadata": {
        "scrolled": true,
        "id": "64MxUfwHHvQm",
        "colab_type": "code",
        "colab": {}
      },
      "source": [
        ""
      ],
      "execution_count": 0,
      "outputs": []
    },
    {
      "cell_type": "markdown",
      "metadata": {
        "id": "fs7L1qIFHvQp",
        "colab_type": "text"
      },
      "source": [
        "**Note:** This values was correctly manage during the conversion process."
      ]
    },
    {
      "cell_type": "markdown",
      "metadata": {
        "id": "257T07k6HvQr",
        "colab_type": "text"
      },
      "source": [
        "* Check if there are some null values, and remove them"
      ]
    },
    {
      "cell_type": "code",
      "metadata": {
        "id": "guPZ1JgDHvQs",
        "colab_type": "code",
        "colab": {}
      },
      "source": [
        "\n"
      ],
      "execution_count": 0,
      "outputs": []
    },
    {
      "cell_type": "code",
      "metadata": {
        "id": "p3aYYqnaHvQw",
        "colab_type": "code",
        "colab": {}
      },
      "source": [
        ""
      ],
      "execution_count": 0,
      "outputs": []
    },
    {
      "cell_type": "code",
      "metadata": {
        "scrolled": true,
        "id": "jmi-zs02HvQz",
        "colab_type": "code",
        "colab": {}
      },
      "source": [
        ""
      ],
      "execution_count": 0,
      "outputs": []
    },
    {
      "cell_type": "markdown",
      "metadata": {
        "id": "J3JN6GNiHvQ2",
        "colab_type": "text"
      },
      "source": [
        "**Note:** 11 nan raws with nan values have been removed."
      ]
    },
    {
      "cell_type": "markdown",
      "metadata": {
        "id": "OJl3hmdnHvQ3",
        "colab_type": "text"
      },
      "source": [
        "    2. Data visualization & Statistics\n",
        "    \n",
        "    \n",
        "* Comparaison of the number of churned customers\n"
      ]
    },
    {
      "cell_type": "code",
      "metadata": {
        "scrolled": true,
        "id": "9ikRNpnPHvQ4",
        "colab_type": "code",
        "colab": {}
      },
      "source": [
        ""
      ],
      "execution_count": 0,
      "outputs": []
    },
    {
      "cell_type": "markdown",
      "metadata": {
        "id": "BNWLeTrFHvQ8",
        "colab_type": "text"
      },
      "source": [
        "* Charges distribution & statistics \n",
        "\n",
        "**TO DO:** Plot the charts for TotalCharges MonthlyCharges and tenure fields."
      ]
    },
    {
      "cell_type": "code",
      "metadata": {
        "scrolled": false,
        "id": "AxynlgVZHvQ9",
        "colab_type": "code",
        "colab": {}
      },
      "source": [
        ""
      ],
      "execution_count": 0,
      "outputs": []
    },
    {
      "cell_type": "markdown",
      "metadata": {
        "id": "1RBNOxaUHvRB",
        "colab_type": "text"
      },
      "source": [
        "Now we are interesting of the evolution between each internet service and each contract compare to the price politique of the companie. We use the monthly charge to compare. \n",
        "\n",
        "**TO DO:** Plot for the different internet services and contracts versus the Monthly Charges (use `sort_values(ascending = True)`)"
      ]
    },
    {
      "cell_type": "code",
      "metadata": {
        "scrolled": true,
        "id": "iH4CWcspHvRD",
        "colab_type": "code",
        "colab": {}
      },
      "source": [
        ""
      ],
      "execution_count": 0,
      "outputs": []
    },
    {
      "cell_type": "code",
      "metadata": {
        "id": "UQiI31sWHvRF",
        "colab_type": "code",
        "colab": {}
      },
      "source": [
        ""
      ],
      "execution_count": 0,
      "outputs": []
    },
    {
      "cell_type": "markdown",
      "metadata": {
        "id": "UVbuFlI2HvRI",
        "colab_type": "text"
      },
      "source": [
        "     3. Statistical analysis\n",
        "\n",
        "To extract the differents features of our models, we have to analyse some statistical indicators such that: the correlation between veriable. Specially for the *Churn* columns since in the fututre it will be the target variable. \n",
        "\n",
        "* Correlation between features columns \n",
        "\n",
        "The Pearson correlation coefficient is the most widely used. It measures the strength of the linear relationship between normally distributed variables. When the variables are not normally distributed or the relationship between the variables is not linear, it may be more appropriate to use the Spearman rank correlation method.  \n",
        "\n",
        "We will see that, the feature extraction methods depend if the inputs columns are linearly dependent or not.\n",
        "\n",
        "**To do:** compute the different correlations, plot correlation regarding the churn column. "
      ]
    },
    {
      "cell_type": "code",
      "metadata": {
        "scrolled": true,
        "id": "CTQZ4ZWRHvRJ",
        "colab_type": "code",
        "colab": {}
      },
      "source": [
        ""
      ],
      "execution_count": 0,
      "outputs": []
    },
    {
      "cell_type": "code",
      "metadata": {
        "scrolled": true,
        "id": "e1chT3_VHvRN",
        "colab_type": "code",
        "colab": {}
      },
      "source": [
        ""
      ],
      "execution_count": 0,
      "outputs": []
    },
    {
      "cell_type": "markdown",
      "metadata": {
        "id": "OR2ap-bKHvRR",
        "colab_type": "text"
      },
      "source": [
        "**Note:** We are interested about the strongly correlated and uncorrelated columns. The main features that interfer the churning decision are: *Contract*, *tenure*, *PaymentMethod*, *TotalCharges*, *SeniorCitizen*, *MonthlyCharges* and *PaperlessBilling*. Note that the two most correlated features are inversed depending on the method."
      ]
    },
    {
      "cell_type": "code",
      "metadata": {
        "scrolled": true,
        "id": "qzYUg63SHvRR",
        "colab_type": "code",
        "colab": {}
      },
      "source": [
        ""
      ],
      "execution_count": 0,
      "outputs": []
    },
    {
      "cell_type": "markdown",
      "metadata": {
        "id": "7ZeonxBsHvRT",
        "colab_type": "text"
      },
      "source": [
        "**Note:**\n",
        "These results seem very consistent with some hypothesis:  \n",
        "- some types of services the customers signed for do not influence its decision to quit the contract\n",
        "- the gender also is not relevant  \n",
        "- the senior categorie is strongly correlated (i.e: we all dies  :sweat:)  \n",
        "- contract, (payment method (linked with contract), charges and tenure are obviously important for a lots of people (there are strongly correlated between them)  \n",
        "- the paperless billing columns is correlated to the MonthlyCharges\n",
        "\n",
        "**TO DO:** Plot the correlation matrix using `sns.heatmap()`."
      ]
    },
    {
      "cell_type": "code",
      "metadata": {
        "id": "UCIaPZpwHvRU",
        "colab_type": "code",
        "colab": {}
      },
      "source": [
        ""
      ],
      "execution_count": 0,
      "outputs": []
    },
    {
      "cell_type": "markdown",
      "metadata": {
        "id": "Q8cqcY1EHvRe",
        "colab_type": "text"
      },
      "source": [
        ""
      ]
    }
  ]
}